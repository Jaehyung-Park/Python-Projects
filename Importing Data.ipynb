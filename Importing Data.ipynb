{
 "cells": [
  {
   "cell_type": "code",
   "execution_count": 1,
   "metadata": {},
   "outputs": [],
   "source": [
    "import os"
   ]
  },
  {
   "cell_type": "code",
   "execution_count": 2,
   "metadata": {},
   "outputs": [],
   "source": [
    "cwd = os.getcwd()"
   ]
  },
  {
   "cell_type": "code",
   "execution_count": 3,
   "metadata": {},
   "outputs": [
    {
     "name": "stdout",
     "output_type": "stream",
     "text": [
      "C:\\Users\\박재형한정미\\Python,Pandas-Quandl\n"
     ]
    }
   ],
   "source": [
    "print(cwd)"
   ]
  },
  {
   "cell_type": "code",
   "execution_count": null,
   "metadata": {},
   "outputs": [],
   "source": [
    "import pandas as pd"
   ]
  },
  {
   "cell_type": "code",
   "execution_count": 19,
   "metadata": {
    "scrolled": true
   },
   "outputs": [
    {
     "name": "stdout",
     "output_type": "stream",
     "text": [
      "First 500 characters of data are\n",
      "Date,Percentage of individuals using the Internet\n",
      "2014-12-31,84.33\n",
      "2013-12-31,84.77\n",
      "2012-12-31,84.07\n",
      "2011-12-31,83.759120153447\n",
      "2010-12-31,83.7\n",
      "2009-12-31,81.6\n",
      "2008-12-31,81.0\n",
      "2007-12-31,78.8\n",
      "2006-12-31,78.1\n",
      "2005-12-31,73.5\n",
      "2004-12-31,72.7\n",
      "2003-12-31,65.5\n",
      "2002-12-31,59.4\n",
      "2001-12-31,56.6\n",
      "2000-12-31,44.7\n",
      "1999-12-31,23.552194449693\n",
      "1998-12-31,6.7818154677409\n",
      "1997-12-31,3.6008015639907\n",
      "1996-12-31,1.6242371917788\n",
      "1995-12-31,0.81968667006725\n",
      "1994-12-31,0.31135936429984\n",
      "1993-12-31,0.24994652280533\n",
      "1992\n"
     ]
    }
   ],
   "source": [
    "import requests\n",
    "url = 'https://www.quandl.com/api/v3/datasets/UICT/INT_KOR.csv?api_key=s5Yvqht38_gBs-ASWr9V'\n",
    "response = requests.get(url)\n",
    "if response.status_code != 200:\n",
    "        print('Failed to get data:', response.status_code)\n",
    "else:\n",
    "    print('First 500 characters of data are')\n",
    "    print(response.text[:500])"
   ]
  },
  {
   "cell_type": "code",
   "execution_count": 16,
   "metadata": {},
   "outputs": [],
   "source": [
    "data= pd.read_csv('https://www.quandl.com/api/v3/datasets/UICT/INT_KOR.csv?api_key=s5Yvqht38_gBs-ASWr9V')"
   ]
  },
  {
   "cell_type": "code",
   "execution_count": 22,
   "metadata": {},
   "outputs": [
    {
     "name": "stdout",
     "output_type": "stream",
     "text": [
      "Republic of Korea individuals using the internet\n",
      "\n",
      "          Date  Percentage of individuals using the Internet\n",
      "0   2014-12-31                                     84.330000\n",
      "1   2013-12-31                                     84.770000\n",
      "2   2012-12-31                                     84.070000\n",
      "3   2011-12-31                                     83.759120\n",
      "4   2010-12-31                                     83.700000\n",
      "5   2009-12-31                                     81.600000\n",
      "6   2008-12-31                                     81.000000\n",
      "7   2007-12-31                                     78.800000\n",
      "8   2006-12-31                                     78.100000\n",
      "9   2005-12-31                                     73.500000\n",
      "10  2004-12-31                                     72.700000\n",
      "11  2003-12-31                                     65.500000\n",
      "12  2002-12-31                                     59.400000\n",
      "13  2001-12-31                                     56.600000\n",
      "14  2000-12-31                                     44.700000\n",
      "15  1999-12-31                                     23.552194\n",
      "16  1998-12-31                                      6.781815\n",
      "17  1997-12-31                                      3.600802\n",
      "18  1996-12-31                                      1.624237\n",
      "19  1995-12-31                                      0.819687\n",
      "20  1994-12-31                                      0.311359\n",
      "21  1993-12-31                                      0.249947\n",
      "22  1992-12-31                                      0.098404\n",
      "23  1991-12-31                                      0.046124\n",
      "24  1990-12-31                                      0.023265\n"
     ]
    }
   ],
   "source": [
    "print('Republic of Korea individuals using the internet\\n')\n",
    "print(data)"
   ]
  },
  {
   "cell_type": "code",
   "execution_count": 24,
   "metadata": {},
   "outputs": [
    {
     "data": {
      "text/plain": [
       "<matplotlib.axes._subplots.AxesSubplot at 0x11c85573eb8>"
      ]
     },
     "execution_count": 24,
     "metadata": {},
     "output_type": "execute_result"
    },
    {
     "data": {
      "image/png": "[encoded data removed]",
      "text/plain": [
       "<matplotlib.figure.Figure at 0x11c8557d828>"
      ]
     },
     "metadata": {},
     "output_type": "display_data"
    }
   ],
   "source": [
    "import quandl\n",
    "quandl.ApiConfig.api_key=\"s5Yvqht38_gBs-ASWr9V\"\n",
    "SouthKorea_ITU = quandl.get('UICT/INT_KOR')\n",
    "SouthKorea_ITU.plot()"
   ]
  },
  {
   "cell_type": "code",
   "execution_count": 3,
   "metadata": {},
   "outputs": [
    {
     "data": {
      "text/plain": [
       "<matplotlib.axes._subplots.AxesSubplot at 0x24491296828>"
      ]
     },
     "execution_count": 3,
     "metadata": {},
     "output_type": "execute_result"
    },
    {
     "data": {
      "image/png": "[encoded data removed]",
      "text/plain": [
       "<matplotlib.figure.Figure at 0x24492db0828>"
      ]
     },
     "metadata": {},
     "output_type": "display_data"
    }
   ],
   "source": [
    "import quandl\n",
    "Canada_ITU = quandl.get('UICT/INT_CAN')\n",
    "Canada_ITU.plot()"
   ]
  },
  {
   "cell_type": "code",
   "execution_count": null,
   "metadata": {},
   "outputs": [],
   "source": []
  }
 ],
 "metadata": {
  "kernelspec": {
   "display_name": "Python 3",
   "language": "python",
   "name": "python3"
  },
  "language_info": {
   "codemirror_mode": {
    "name": "ipython",
    "version": 3
   },
   "file_extension": ".py",
   "mimetype": "text/x-python",
   "name": "python",
   "nbconvert_exporter": "python",
   "pygments_lexer": "ipython3",
   "version": "3.6.4"
  }
 },
 "nbformat": 4,
 "nbformat_minor": 2
}
